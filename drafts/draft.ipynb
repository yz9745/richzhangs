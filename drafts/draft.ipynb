{
 "cells": [
  {
   "cell_type": "code",
   "execution_count": 2,
   "id": "e681e5bf-6bf7-4b0d-9602-cf0805c74ea5",
   "metadata": {},
   "outputs": [],
   "source": [
    "import pandas as pd\n",
    "import yfinance as yf\n",
    "import numpy as np\n",
    "\n",
    "start = \"2019-01-01\"\n",
    "end = \"2021-01-01\"\n",
    "short_term = 3\n",
    "long_term_one = 30\n",
    "long_term_two = 45\n",
    "long_term_three = 60\n",
    "default_nan = np.nan\n",
    "day = 1\n",
    "week = 5\n",
    "month = 20\n",
    "\n",
    "# grab the stock name list\n",
    "ticker_names = pd.read_csv(\"../tickers.csv\") # some method to generate the list\n",
    "\n",
    "\n",
    "\n",
    "\n"
   ]
  },
  {
   "cell_type": "code",
   "execution_count": 8,
   "id": "0390abb7-a18d-47cf-a025-0c27c15596e3",
   "metadata": {},
   "outputs": [
    {
     "data": {
      "text/plain": [
       "'A'"
      ]
     },
     "execution_count": 8,
     "metadata": {},
     "output_type": "execute_result"
    }
   ],
   "source": [
    "ticker_names.iloc[0]['Symbol']"
   ]
  },
  {
   "cell_type": "code",
   "execution_count": 3,
   "id": "046bae36-a351-47ac-b49b-694d00635280",
   "metadata": {},
   "outputs": [
    {
     "data": {
      "text/html": [
       "<div>\n",
       "<style scoped>\n",
       "    .dataframe tbody tr th:only-of-type {\n",
       "        vertical-align: middle;\n",
       "    }\n",
       "\n",
       "    .dataframe tbody tr th {\n",
       "        vertical-align: top;\n",
       "    }\n",
       "\n",
       "    .dataframe thead th {\n",
       "        text-align: right;\n",
       "    }\n",
       "</style>\n",
       "<table border=\"1\" class=\"dataframe\">\n",
       "  <thead>\n",
       "    <tr style=\"text-align: right;\">\n",
       "      <th></th>\n",
       "      <th>Symbol</th>\n",
       "      <th>Company Name</th>\n",
       "      <th>Industry</th>\n",
       "      <th>Market Cap</th>\n",
       "    </tr>\n",
       "  </thead>\n",
       "  <tbody>\n",
       "    <tr>\n",
       "      <th>0</th>\n",
       "      <td>A</td>\n",
       "      <td>Agilent Technologies</td>\n",
       "      <td>Life Sciences Tools &amp; Services</td>\n",
       "      <td>46.75B</td>\n",
       "    </tr>\n",
       "    <tr>\n",
       "      <th>1</th>\n",
       "      <td>AA</td>\n",
       "      <td>Alcoa</td>\n",
       "      <td>Metals &amp; Mining</td>\n",
       "      <td>10.45B</td>\n",
       "    </tr>\n",
       "    <tr>\n",
       "      <th>2</th>\n",
       "      <td>AAC</td>\n",
       "      <td>Ares Acquisition</td>\n",
       "      <td>Shell Companies</td>\n",
       "      <td>1.22B</td>\n",
       "    </tr>\n",
       "    <tr>\n",
       "      <th>3</th>\n",
       "      <td>AACG</td>\n",
       "      <td>ATA Creativity Global</td>\n",
       "      <td>Diversified Consumer Services</td>\n",
       "      <td>81.78M</td>\n",
       "    </tr>\n",
       "    <tr>\n",
       "      <th>4</th>\n",
       "      <td>AADI</td>\n",
       "      <td>Aadi Bioscience</td>\n",
       "      <td>Biotechnology</td>\n",
       "      <td>549.15M</td>\n",
       "    </tr>\n",
       "    <tr>\n",
       "      <th>...</th>\n",
       "      <td>...</td>\n",
       "      <td>...</td>\n",
       "      <td>...</td>\n",
       "      <td>...</td>\n",
       "    </tr>\n",
       "    <tr>\n",
       "      <th>5956</th>\n",
       "      <td>ZWS</td>\n",
       "      <td>Zurn Water Solutions</td>\n",
       "      <td>Utilities-Regulated Water</td>\n",
       "      <td>4.39B</td>\n",
       "    </tr>\n",
       "    <tr>\n",
       "      <th>5957</th>\n",
       "      <td>ZY</td>\n",
       "      <td>Zymergen</td>\n",
       "      <td>Chemicals</td>\n",
       "      <td>1.35B</td>\n",
       "    </tr>\n",
       "    <tr>\n",
       "      <th>5958</th>\n",
       "      <td>ZYME</td>\n",
       "      <td>Zymeworks</td>\n",
       "      <td>Biotechnology</td>\n",
       "      <td>1.19B</td>\n",
       "    </tr>\n",
       "    <tr>\n",
       "      <th>5959</th>\n",
       "      <td>ZYNE</td>\n",
       "      <td>Zynerba Pharmaceuticals</td>\n",
       "      <td>Pharmaceuticals</td>\n",
       "      <td>167.48M</td>\n",
       "    </tr>\n",
       "    <tr>\n",
       "      <th>5960</th>\n",
       "      <td>ZYXI</td>\n",
       "      <td>Zynex</td>\n",
       "      <td>Health Care Equipment &amp; Supplies</td>\n",
       "      <td>419.21M</td>\n",
       "    </tr>\n",
       "  </tbody>\n",
       "</table>\n",
       "<p>5961 rows × 4 columns</p>\n",
       "</div>"
      ],
      "text/plain": [
       "     Symbol             Company Name                          Industry  \\\n",
       "0         A     Agilent Technologies    Life Sciences Tools & Services   \n",
       "1        AA                    Alcoa                   Metals & Mining   \n",
       "2       AAC         Ares Acquisition                   Shell Companies   \n",
       "3      AACG    ATA Creativity Global     Diversified Consumer Services   \n",
       "4      AADI          Aadi Bioscience                     Biotechnology   \n",
       "...     ...                      ...                               ...   \n",
       "5956    ZWS     Zurn Water Solutions         Utilities-Regulated Water   \n",
       "5957     ZY                 Zymergen                         Chemicals   \n",
       "5958   ZYME                Zymeworks                     Biotechnology   \n",
       "5959   ZYNE  Zynerba Pharmaceuticals                   Pharmaceuticals   \n",
       "5960   ZYXI                    Zynex  Health Care Equipment & Supplies   \n",
       "\n",
       "     Market Cap  \n",
       "0        46.75B  \n",
       "1        10.45B  \n",
       "2         1.22B  \n",
       "3        81.78M  \n",
       "4       549.15M  \n",
       "...         ...  \n",
       "5956      4.39B  \n",
       "5957      1.35B  \n",
       "5958      1.19B  \n",
       "5959    167.48M  \n",
       "5960    419.21M  \n",
       "\n",
       "[5961 rows x 4 columns]"
      ]
     },
     "execution_count": 3,
     "metadata": {},
     "output_type": "execute_result"
    }
   ],
   "source": [
    "ticker_names"
   ]
  },
  {
   "cell_type": "code",
   "execution_count": 1,
   "id": "76efbe66-3770-4ee2-80ef-24994f6c908f",
   "metadata": {},
   "outputs": [],
   "source": [
    "def getMovingAve(data, period):\n",
    "    rtn = []\n",
    "    for i in range(0, len(data)):\n",
    "        if i < period - 1:\n",
    "            rtn.append(default_nan)\n",
    "        else:\n",
    "            sum = 0.0\n",
    "            for j in range(i - period + 1, i + 1):\n",
    "                sum += data[j]\n",
    "            rtn.append(sum/period)\n",
    "    return rtn"
   ]
  },
  {
   "cell_type": "code",
   "execution_count": 4,
   "id": "ef6eaff9-aa0c-48c9-9bba-aaa563b4e689",
   "metadata": {},
   "outputs": [],
   "source": [
    "def getDer(data, period):\n",
    "    rtn = []\n",
    "    for i in range(0, len(data)):\n",
    "        if i < period:\n",
    "            rtn.append(default_nan)\n",
    "        elif not np.isnan(data[i]) and not np.isnan(data[i - period]) : \n",
    "            rtn.append((data[i] - data[i - period])/period)\n",
    "        else:\n",
    "            rtn.append(default_nan)\n",
    "    return rtn"
   ]
  },
  {
   "cell_type": "code",
   "execution_count": 7,
   "id": "ed6783d0-a5c1-45cc-86c7-c2c7fae0b8e4",
   "metadata": {},
   "outputs": [],
   "source": [
    "# for temp use\n",
    "ticker_info = []\n",
    "ticker_names.append(\"X\")\n",
    "for i in range(len(ticker_names)):\n",
    "    ticker = yf.Ticker(ticker_names[i])\n",
    "    hist = ticker.history(start=start, end=end)\n",
    "    hist = hist.drop(columns=['Dividends', 'Stock Splits'])\n",
    "    hist['Ave Short'] = getMovingAve(hist['Close'], short_term)\n",
    "    hist['Ave Long 1'] = getMovingAve(hist['Close'], long_term_one)\n",
    "    hist['Ave Long 2'] = getMovingAve(hist['Close'], long_term_two)\n",
    "    hist['Ave Long 3'] = getMovingAve(hist['Close'], long_term_three)\n",
    "    hist['Der Daily Short'] = getDer(hist['Ave Short'], day)\n",
    "    hist['Der Daily Long 1'] = getDer(hist['Ave Long 1'], day)\n",
    "    hist['Der Daily Long 2'] = getDer(hist['Ave Long 2'], day)\n",
    "    hist['Der Daily Long 3'] = getDer(hist['Ave Long 3'], day)\n",
    "    hist['Der weekly Short'] = getDer(hist['Ave Short'], week)\n",
    "    hist['Der weekly Long 1'] = getDer(hist['Ave Long 1'], week)\n",
    "    hist['Der weekly Long 2'] = getDer(hist['Ave Long 2'], week)\n",
    "    hist['Der weekly Long 3'] = getDer(hist['Ave Long 3'], week)\n",
    "    \n",
    "    ticker_info.append(hist)\n",
    "\n"
   ]
  },
  {
   "cell_type": "code",
   "execution_count": null,
   "id": "66742590-e914-499a-a3f6-53e968c6152b",
   "metadata": {},
   "outputs": [],
   "source": []
  },
  {
   "cell_type": "code",
   "execution_count": null,
   "id": "1d764ad2-c851-4617-ba5b-4e1565c2a256",
   "metadata": {},
   "outputs": [],
   "source": []
  },
  {
   "cell_type": "code",
   "execution_count": 46,
   "id": "f845f3a8-174c-482e-95a2-ddd3aa9df645",
   "metadata": {},
   "outputs": [
    {
     "name": "stdout",
     "output_type": "stream",
     "text": [
      "18.55589788387246\n"
     ]
    }
   ],
   "source": [
    "print(ticker_info[0].iloc[1][1])"
   ]
  },
  {
   "cell_type": "code",
   "execution_count": null,
   "id": "b0c589a0-c830-4a17-9ed8-eb3fc1f9c499",
   "metadata": {},
   "outputs": [],
   "source": []
  }
 ],
 "metadata": {
  "kernelspec": {
   "display_name": "Python 3 (ipykernel)",
   "language": "python",
   "name": "python3"
  },
  "language_info": {
   "codemirror_mode": {
    "name": "ipython",
    "version": 3
   },
   "file_extension": ".py",
   "mimetype": "text/x-python",
   "name": "python",
   "nbconvert_exporter": "python",
   "pygments_lexer": "ipython3",
   "version": "3.9.7"
  }
 },
 "nbformat": 4,
 "nbformat_minor": 5
}
