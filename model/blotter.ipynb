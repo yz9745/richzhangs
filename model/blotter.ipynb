{
 "cells": [
  {
   "cell_type": "code",
   "execution_count": 1,
   "id": "7aff4917-e66c-45ae-9a59-f5e507812514",
   "metadata": {},
   "outputs": [],
   "source": [
    "import pandas as pd\n",
    "import numpy as np\n",
    "import datetime as dt\n",
    "def getTickers():\n",
    "    ticker_files = pd.read_csv(\"../pre_loaded_files/tickers_availables.csv\")\n",
    "    return ticker_files\n",
    "tickers = getTickers()"
   ]
  },
  {
   "cell_type": "code",
   "execution_count": 2,
   "id": "adeff7ed-bd7b-44e7-84ea-64a0f587a789",
   "metadata": {},
   "outputs": [
    {
     "name": "stderr",
     "output_type": "stream",
     "text": [
      "/var/folders/qb/zkr1kmzd3dqb3n6902fws8gw0000gn/T/ipykernel_3784/3672321401.py:7: SettingWithCopyWarning: \n",
      "A value is trying to be set on a copy of a slice from a DataFrame.\n",
      "Try using .loc[row_indexer,col_indexer] = value instead\n",
      "\n",
      "See the caveats in the documentation: https://pandas.pydata.org/pandas-docs/stable/user_guide/indexing.html#returning-a-view-versus-a-copy\n",
      "  all_sell['Date'] = pd.to_datetime(all_sell['Date'])\n"
     ]
    }
   ],
   "source": [
    "sell_blotter = pd.DataFrame(None, columns=['symbol', 'industry', 'start_date','start_time', 'end_date','end_time', 'days', 'strategy', 'sell_price', 'buy_price', 'return', 'daily return'])\n",
    "for i in range(len(tickers)):\n",
    "    symbol = tickers.loc[i]['Symbol']\n",
    "    industry = tickers.loc[i]['Industry']\n",
    "    ticker_info = pd.read_csv(\"../stradegy_output/\" + symbol + \".csv\")\n",
    "    all_sell = ticker_info.loc[ticker_info['Short Signal'] == 'SELL']\n",
    "    all_sell['Date'] = pd.to_datetime(all_sell['Date'])\n",
    "    all_sell = all_sell[['Short Signal', 'Short Period', 'Close', 'Date']]\n",
    "    all_sell = all_sell.rename(columns={\"Date\": 'start_date', \"Short Signal\": \"strategy\", \"Short Period\": \"days\", 'Close': 'sell_price'})\n",
    "    all_sell['start_time'] = (all_sell['start_date'] - dt.datetime(1970,1,1)).dt.total_seconds()\n",
    "    all_sell['symbol'] = symbol\n",
    "    all_sell['industry'] = industry\n",
    "    all_sell = all_sell[all_sell['days'] != 0]\n",
    "    all_sell['end_time'] = all_sell['start_time'] + abs(all_sell['days']) * 86400\n",
    "    all_sell['end_date'] = pd.to_datetime(all_sell['end_time'] * 1000000000).dt.date\n",
    "    all_sell['return'] = np.where(all_sell['days'] > 0, 0.05, -0.03)\n",
    "    all_sell['daily return'] = all_sell['return'] / abs(all_sell['days'])\n",
    "    all_sell['buy_price'] = np.where(all_sell['days'] > 0, all_sell['sell_price'] * 0.95, all_sell['sell_price'] * 1.03)\n",
    "    all_sell['days'] = abs(all_sell['days'])\n",
    "    all_sell = all_sell.reset_index(drop=True)\n",
    "    all_sell = all_sell.reindex(columns=['symbol', 'industry', 'start_date','start_time', 'end_date','end_time', 'days', 'strategy', 'sell_price', 'buy_price', 'return', 'daily return'])  \n",
    "    sell_blotter = sell_blotter.append(all_sell, ignore_index=True)\n",
    "sell_blotter = sell_blotter[sell_blotter['start_time'] >= (dt.datetime(2018,1,1) - dt.datetime(1970,1,1)).total_seconds()]\n",
    "sell_blotter = sell_blotter.astype({\"start_time\": int, \"end_time\": int})\n",
    "sell_blotter = sell_blotter.sort_values(by=['start_time', 'symbol'])\n",
    "sell_blotter = sell_blotter.reset_index(drop=True)\n",
    "sell_blotter.to_csv(\"../output/sell_blotter.csv\")"
   ]
  },
  {
   "cell_type": "code",
   "execution_count": 3,
   "id": "6e3b68fd-7ac5-4dc6-b4ea-258f64a9a8f6",
   "metadata": {},
   "outputs": [
    {
     "name": "stderr",
     "output_type": "stream",
     "text": [
      "/var/folders/qb/zkr1kmzd3dqb3n6902fws8gw0000gn/T/ipykernel_3784/1789958442.py:7: SettingWithCopyWarning: \n",
      "A value is trying to be set on a copy of a slice from a DataFrame.\n",
      "Try using .loc[row_indexer,col_indexer] = value instead\n",
      "\n",
      "See the caveats in the documentation: https://pandas.pydata.org/pandas-docs/stable/user_guide/indexing.html#returning-a-view-versus-a-copy\n",
      "  all_buy['Date'] = pd.to_datetime(all_buy['Date'])\n"
     ]
    }
   ],
   "source": [
    "buy_blotter = pd.DataFrame(None, columns=['symbol', 'industry', 'start_date','start_time', 'end_date','end_time', 'days', 'strategy', 'buy_price', 'sell_price', 'return', 'daily return'])\n",
    "for i in range(len(tickers)):\n",
    "    symbol = tickers.loc[i]['Symbol']\n",
    "    industry = tickers.loc[i]['Industry']\n",
    "    ticker_info = pd.read_csv(\"../stradegy_output/\" + symbol + \".csv\")\n",
    "    all_buy = ticker_info.loc[ticker_info['Long Signal'] == 'BUY']\n",
    "    all_buy['Date'] = pd.to_datetime(all_buy['Date'])\n",
    "    all_buy = all_buy[['Long Signal', 'Long Period', 'Close', 'Date']]\n",
    "    all_buy = all_buy.rename(columns={\"Date\": 'start_date', \"Long Signal\": \"strategy\", \"Long Period\": \"days\", 'Close': 'buy_price'})\n",
    "    all_buy['start_time'] = (all_buy['start_date'] - dt.datetime(1970,1,1)).dt.total_seconds()\n",
    "    all_buy['symbol'] = symbol\n",
    "    all_buy['industry'] = industry\n",
    "    all_buy = all_buy[all_buy['days'] != 0]\n",
    "    all_buy['end_time'] = all_buy['start_time'] + abs(all_buy['days']) * 86400\n",
    "    all_buy['end_date'] = pd.to_datetime(all_buy['end_time'] * 1000000000).dt.date\n",
    "    all_buy['return'] = np.where(all_buy['days'] > 0, 0.05, -0.03)\n",
    "    all_buy['daily return'] = all_buy['return'] / abs(all_buy['days'])\n",
    "    all_buy['sell_price'] = np.where(all_buy['days'] > 0, all_buy['buy_price'] * 1.05, all_buy['buy_price'] * 0.97)\n",
    "    all_buy['days'] = abs(all_buy['days'])\n",
    "    all_buy = all_buy.reset_index(drop=True)\n",
    "    all_buy = all_buy.reindex(columns=['symbol', 'industry', 'start_date','start_time', 'end_date','end_time', 'days', 'strategy', 'buy_price', 'sell_price', 'return', 'daily return'])  \n",
    "    buy_blotter = buy_blotter.append(all_buy, ignore_index=True)\n",
    "buy_blotter = buy_blotter[buy_blotter['start_time'] >= (dt.datetime(2018,1,1) - dt.datetime(1970,1,1)).total_seconds()]\n",
    "buy_blotter = buy_blotter.astype({\"start_time\": int, \"end_time\": int})\n",
    "buy_blotter = buy_blotter.sort_values(by=['start_time', 'symbol'])\n",
    "buy_blotter = buy_blotter.reset_index(drop=True)\n",
    "buy_blotter.to_csv(\"../output/buy_blotter.csv\")"
   ]
  },
  {
   "cell_type": "code",
   "execution_count": null,
   "id": "e3cace3f-af97-4c3e-8d58-ae94afaeb4cf",
   "metadata": {},
   "outputs": [],
   "source": []
  }
 ],
 "metadata": {
  "kernelspec": {
   "display_name": "Python 3 (ipykernel)",
   "language": "python",
   "name": "python3"
  },
  "language_info": {
   "codemirror_mode": {
    "name": "ipython",
    "version": 3
   },
   "file_extension": ".py",
   "mimetype": "text/x-python",
   "name": "python",
   "nbconvert_exporter": "python",
   "pygments_lexer": "ipython3",
   "version": "3.9.7"
  }
 },
 "nbformat": 4,
 "nbformat_minor": 5
}
