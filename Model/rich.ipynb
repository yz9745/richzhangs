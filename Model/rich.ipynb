{
 "cells": [
  {
   "cell_type": "code",
   "execution_count": 1,
   "id": "ed17f333-19f4-4835-8859-4694daf5eab3",
   "metadata": {},
   "outputs": [],
   "source": [
    "from datetime import *\n",
    "from dash import *\n",
    "import pandas as pd\n",
    "import yfinance as yf\n",
    "import numpy as np\n",
    "   "
   ]
  },
  {
   "cell_type": "code",
   "execution_count": 2,
   "id": "8f17fd74-773b-44b8-b0c0-f390c9adb1a6",
   "metadata": {},
   "outputs": [],
   "source": [
    "start = \"2017-01-01\"\n",
    "end = \"2021-01-01\"\n",
    "size = 1007\n",
    "short_term = 3\n",
    "long_term_one = 30\n",
    "long_term_two = 45\n",
    "long_term_three = 60\n",
    "default_nan = np.nan\n",
    "day = 1\n",
    "week = 5\n",
    "month = 20\n",
    "win_ratio = 1.05\n",
    "loss_ratio = 0.95"
   ]
  },
  {
   "cell_type": "code",
   "execution_count": 3,
   "id": "996a1448-9ec1-4f96-abb4-c688f9361d46",
   "metadata": {},
   "outputs": [],
   "source": [
    "def getTickers():\n",
    "    ticker_files = pd.read_csv(\"../pre_loaded_files/tickers.csv\")\n",
    "    return ticker_files"
   ]
  },
  {
   "cell_type": "code",
   "execution_count": 4,
   "id": "ad159084-4aee-4bb6-92a0-a6f86a71e30d",
   "metadata": {},
   "outputs": [],
   "source": [
    "ticker_names = getTickers()\n",
    "ticker_names = ticker_names.drop(columns=['Company Name', 'Market Cap'])"
   ]
  },
  {
   "cell_type": "code",
   "execution_count": 5,
   "id": "e9e0ef3e-3bde-423e-ba4f-f6197128ec38",
   "metadata": {},
   "outputs": [
    {
     "data": {
      "text/html": [
       "<div>\n",
       "<style scoped>\n",
       "    .dataframe tbody tr th:only-of-type {\n",
       "        vertical-align: middle;\n",
       "    }\n",
       "\n",
       "    .dataframe tbody tr th {\n",
       "        vertical-align: top;\n",
       "    }\n",
       "\n",
       "    .dataframe thead th {\n",
       "        text-align: right;\n",
       "    }\n",
       "</style>\n",
       "<table border=\"1\" class=\"dataframe\">\n",
       "  <thead>\n",
       "    <tr style=\"text-align: right;\">\n",
       "      <th></th>\n",
       "      <th>Symbol</th>\n",
       "      <th>Industry</th>\n",
       "    </tr>\n",
       "  </thead>\n",
       "  <tbody>\n",
       "    <tr>\n",
       "      <th>0</th>\n",
       "      <td>A</td>\n",
       "      <td>Life Sciences Tools &amp; Services</td>\n",
       "    </tr>\n",
       "    <tr>\n",
       "      <th>1</th>\n",
       "      <td>AA</td>\n",
       "      <td>Metals &amp; Mining</td>\n",
       "    </tr>\n",
       "    <tr>\n",
       "      <th>2</th>\n",
       "      <td>AAC</td>\n",
       "      <td>Shell Companies</td>\n",
       "    </tr>\n",
       "    <tr>\n",
       "      <th>3</th>\n",
       "      <td>AACG</td>\n",
       "      <td>Diversified Consumer Services</td>\n",
       "    </tr>\n",
       "    <tr>\n",
       "      <th>4</th>\n",
       "      <td>AADI</td>\n",
       "      <td>Biotechnology</td>\n",
       "    </tr>\n",
       "    <tr>\n",
       "      <th>...</th>\n",
       "      <td>...</td>\n",
       "      <td>...</td>\n",
       "    </tr>\n",
       "    <tr>\n",
       "      <th>5956</th>\n",
       "      <td>ZWS</td>\n",
       "      <td>Utilities-Regulated Water</td>\n",
       "    </tr>\n",
       "    <tr>\n",
       "      <th>5957</th>\n",
       "      <td>ZY</td>\n",
       "      <td>Chemicals</td>\n",
       "    </tr>\n",
       "    <tr>\n",
       "      <th>5958</th>\n",
       "      <td>ZYME</td>\n",
       "      <td>Biotechnology</td>\n",
       "    </tr>\n",
       "    <tr>\n",
       "      <th>5959</th>\n",
       "      <td>ZYNE</td>\n",
       "      <td>Pharmaceuticals</td>\n",
       "    </tr>\n",
       "    <tr>\n",
       "      <th>5960</th>\n",
       "      <td>ZYXI</td>\n",
       "      <td>Health Care Equipment &amp; Supplies</td>\n",
       "    </tr>\n",
       "  </tbody>\n",
       "</table>\n",
       "<p>5961 rows × 2 columns</p>\n",
       "</div>"
      ],
      "text/plain": [
       "     Symbol                          Industry\n",
       "0         A    Life Sciences Tools & Services\n",
       "1        AA                   Metals & Mining\n",
       "2       AAC                   Shell Companies\n",
       "3      AACG     Diversified Consumer Services\n",
       "4      AADI                     Biotechnology\n",
       "...     ...                               ...\n",
       "5956    ZWS         Utilities-Regulated Water\n",
       "5957     ZY                         Chemicals\n",
       "5958   ZYME                     Biotechnology\n",
       "5959   ZYNE                   Pharmaceuticals\n",
       "5960   ZYXI  Health Care Equipment & Supplies\n",
       "\n",
       "[5961 rows x 2 columns]"
      ]
     },
     "execution_count": 5,
     "metadata": {},
     "output_type": "execute_result"
    }
   ],
   "source": [
    "ticker_names"
   ]
  },
  {
   "cell_type": "code",
   "execution_count": 6,
   "id": "8aea8867-33d7-4443-bb41-00ee82c6f28b",
   "metadata": {},
   "outputs": [],
   "source": [
    "symbols = ticker_names['Symbol'].to_list()\n",
    "    "
   ]
  },
  {
   "cell_type": "code",
   "execution_count": 7,
   "id": "88286a6d-7d8e-4241-a3e7-b53858b44203",
   "metadata": {},
   "outputs": [],
   "source": [
    "for symbol in symbols:\n",
    "    try:\n",
    "        file = pd.read_csv(\"../tickers_history/\" + symbol + \".csv\")\n",
    "    except:\n",
    "        ticker_names.drop(ticker_names[ticker_names['Symbol'] == symbol].index, inplace = True)"
   ]
  },
  {
   "cell_type": "code",
   "execution_count": 9,
   "id": "f306c668-b618-4023-83ae-8d72a8ba12e6",
   "metadata": {},
   "outputs": [],
   "source": [
    "ticker_names = ticker_names.reset_index(drop=True)"
   ]
  },
  {
   "cell_type": "code",
   "execution_count": 12,
   "id": "54b872fe-eee3-4720-902d-12760ea1bcf2",
   "metadata": {},
   "outputs": [],
   "source": [
    "ticker_names.to_csv(\"../pre_loaded_files/tickers_availables.csv\")"
   ]
  },
  {
   "cell_type": "code",
   "execution_count": 13,
   "id": "c53b3604-dadf-4cf1-92b7-04db51251910",
   "metadata": {},
   "outputs": [],
   "source": [
    "# for i in range(0, len(ticker_names)):\n",
    "#     ticker_symbol = ticker_names.iloc[i]['Symbol']\n",
    "#     print(i)\n",
    "#     try:      \n",
    "#         ticker = yf.Ticker(ticker_symbol)\n",
    "#         ticker_history = ticker.history(start=start, end=end)\n",
    "#         ticker_industry = ticker.info['industry']\n",
    "#         if len(ticker_history) == size:\n",
    "#             success.append(i)\n",
    "#             ticker_available.loc[len(ticker_available.index)] = [ticker_symbol, ticker_industry]\n",
    "#             ticker_history = ticker_history.drop(columns = ['Dividends','Stock Splits'])\n",
    "#             ticker_history[\"Time\"] = ticker_history.index.view(np.int64) / 1000000000\n",
    "#             ticker_history = ticker_history.astype({\"Time\": int})\n",
    "#             ticker_history = ticker_history.round({'Open': 2, 'Close': 2, 'High': 2, 'Low': 2})\n",
    "#             ticker_history = ticker_history.set_index(\"Time\", append=True)\n",
    "#             ticker_history.to_csv(\"../tickers_history/\" + ticker_symbol + \".csv\")\n",
    "#         else:\n",
    "#             fail.append(i)\n",
    "#     except:\n",
    "#         wrongList.append(i)\n",
    "#         wrongName.append(ticker_symbol)\n",
    "        \n",
    "        \n",
    "        \n",
    "        "
   ]
  },
  {
   "cell_type": "code",
   "execution_count": 14,
   "id": "23557d61-e4d6-46a0-80b1-6342d0965f73",
   "metadata": {
    "tags": []
   },
   "outputs": [
    {
     "data": {
      "text/html": [
       "<div>\n",
       "<style scoped>\n",
       "    .dataframe tbody tr th:only-of-type {\n",
       "        vertical-align: middle;\n",
       "    }\n",
       "\n",
       "    .dataframe tbody tr th {\n",
       "        vertical-align: top;\n",
       "    }\n",
       "\n",
       "    .dataframe thead th {\n",
       "        text-align: right;\n",
       "    }\n",
       "</style>\n",
       "<table border=\"1\" class=\"dataframe\">\n",
       "  <thead>\n",
       "    <tr style=\"text-align: right;\">\n",
       "      <th></th>\n",
       "      <th>Symbol</th>\n",
       "      <th>Industry</th>\n",
       "    </tr>\n",
       "  </thead>\n",
       "  <tbody>\n",
       "  </tbody>\n",
       "</table>\n",
       "</div>"
      ],
      "text/plain": [
       "Empty DataFrame\n",
       "Columns: [Symbol, Industry]\n",
       "Index: []"
      ]
     },
     "execution_count": 14,
     "metadata": {},
     "output_type": "execute_result"
    }
   ],
   "source": []
  },
  {
   "cell_type": "code",
   "execution_count": null,
   "id": "dbccece4-bc77-46ef-9b57-1f250544b747",
   "metadata": {},
   "outputs": [],
   "source": []
  },
  {
   "cell_type": "code",
   "execution_count": null,
   "id": "62c43946-bf7a-4ceb-9f09-787e467a1c73",
   "metadata": {},
   "outputs": [],
   "source": []
  },
  {
   "cell_type": "code",
   "execution_count": null,
   "id": "885a0efa-d486-4b1c-aa19-d8d0c5219b37",
   "metadata": {},
   "outputs": [],
   "source": []
  },
  {
   "cell_type": "code",
   "execution_count": null,
   "id": "abce48bc-536c-4eac-9096-0d59b71940a4",
   "metadata": {},
   "outputs": [],
   "source": []
  },
  {
   "cell_type": "code",
   "execution_count": null,
   "id": "93e1f7a7-d0d9-45c6-a1b0-6e6ae057538e",
   "metadata": {},
   "outputs": [],
   "source": []
  },
  {
   "cell_type": "code",
   "execution_count": null,
   "id": "635ed7cb-ea6c-4495-9c3f-504a90833808",
   "metadata": {},
   "outputs": [],
   "source": []
  }
 ],
 "metadata": {
  "kernelspec": {
   "display_name": "Python 3 (ipykernel)",
   "language": "python",
   "name": "python3"
  },
  "language_info": {
   "codemirror_mode": {
    "name": "ipython",
    "version": 3
   },
   "file_extension": ".py",
   "mimetype": "text/x-python",
   "name": "python",
   "nbconvert_exporter": "python",
   "pygments_lexer": "ipython3",
   "version": "3.9.7"
  }
 },
 "nbformat": 4,
 "nbformat_minor": 5
}
