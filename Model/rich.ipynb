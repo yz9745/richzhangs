{
 "cells": [
  {
   "cell_type": "code",
   "execution_count": 1,
   "id": "ed17f333-19f4-4835-8859-4694daf5eab3",
   "metadata": {},
   "outputs": [],
   "source": [
    "from datetime import *\n",
    "from dash import *\n",
    "import pandas as pd\n",
    "import yfinance as yf\n",
    "import numpy as np\n",
    "   "
   ]
  },
  {
   "cell_type": "code",
   "execution_count": 2,
   "id": "8f17fd74-773b-44b8-b0c0-f390c9adb1a6",
   "metadata": {},
   "outputs": [],
   "source": [
    "start = \"2017-01-01\"\n",
    "end = \"2021-01-01\"\n",
    "size = 1007\n",
    "short_term = 3\n",
    "long_term_one = 30\n",
    "long_term_two = 45\n",
    "long_term_three = 60\n",
    "default_nan = np.nan\n",
    "day = 1\n",
    "week = 5\n",
    "month = 20\n",
    "win_ratio = 1.05\n",
    "loss_ratio = 0.95"
   ]
  },
  {
   "cell_type": "code",
   "execution_count": 7,
   "id": "996a1448-9ec1-4f96-abb4-c688f9361d46",
   "metadata": {},
   "outputs": [],
   "source": [
    "def getTickers():\n",
    "    ticker_files = pd.read_csv(\"../pre_loaded_files/tickers_availables.csv\")\n",
    "    return ticker_files"
   ]
  },
  {
   "cell_type": "code",
   "execution_count": 8,
   "id": "ad159084-4aee-4bb6-92a0-a6f86a71e30d",
   "metadata": {},
   "outputs": [],
   "source": [
    "ticker_names = getTickers()"
   ]
  },
  {
   "cell_type": "code",
   "execution_count": 9,
   "id": "e9e0ef3e-3bde-423e-ba4f-f6197128ec38",
   "metadata": {},
   "outputs": [
    {
     "data": {
      "text/html": [
       "<div>\n",
       "<style scoped>\n",
       "    .dataframe tbody tr th:only-of-type {\n",
       "        vertical-align: middle;\n",
       "    }\n",
       "\n",
       "    .dataframe tbody tr th {\n",
       "        vertical-align: top;\n",
       "    }\n",
       "\n",
       "    .dataframe thead th {\n",
       "        text-align: right;\n",
       "    }\n",
       "</style>\n",
       "<table border=\"1\" class=\"dataframe\">\n",
       "  <thead>\n",
       "    <tr style=\"text-align: right;\">\n",
       "      <th></th>\n",
       "      <th>Unnamed: 0</th>\n",
       "      <th>Symbol</th>\n",
       "      <th>Industry</th>\n",
       "    </tr>\n",
       "  </thead>\n",
       "  <tbody>\n",
       "    <tr>\n",
       "      <th>0</th>\n",
       "      <td>0</td>\n",
       "      <td>A</td>\n",
       "      <td>Life Sciences Tools &amp; Services</td>\n",
       "    </tr>\n",
       "    <tr>\n",
       "      <th>1</th>\n",
       "      <td>1</td>\n",
       "      <td>AA</td>\n",
       "      <td>Metals &amp; Mining</td>\n",
       "    </tr>\n",
       "    <tr>\n",
       "      <th>2</th>\n",
       "      <td>2</td>\n",
       "      <td>AAIC</td>\n",
       "      <td>Mortgage Real Estate Investment Trus...</td>\n",
       "    </tr>\n",
       "    <tr>\n",
       "      <th>3</th>\n",
       "      <td>3</td>\n",
       "      <td>AAL</td>\n",
       "      <td>Airlines</td>\n",
       "    </tr>\n",
       "    <tr>\n",
       "      <th>4</th>\n",
       "      <td>4</td>\n",
       "      <td>AAOI</td>\n",
       "      <td>Communications Equipment</td>\n",
       "    </tr>\n",
       "    <tr>\n",
       "      <th>...</th>\n",
       "      <td>...</td>\n",
       "      <td>...</td>\n",
       "      <td>...</td>\n",
       "    </tr>\n",
       "    <tr>\n",
       "      <th>3313</th>\n",
       "      <td>3313</td>\n",
       "      <td>ZTO</td>\n",
       "      <td>Air Freight &amp; Logistics</td>\n",
       "    </tr>\n",
       "    <tr>\n",
       "      <th>3314</th>\n",
       "      <td>3314</td>\n",
       "      <td>ZTS</td>\n",
       "      <td>Pharmaceuticals</td>\n",
       "    </tr>\n",
       "    <tr>\n",
       "      <th>3315</th>\n",
       "      <td>3315</td>\n",
       "      <td>ZUMZ</td>\n",
       "      <td>Specialty Retail</td>\n",
       "    </tr>\n",
       "    <tr>\n",
       "      <th>3316</th>\n",
       "      <td>3316</td>\n",
       "      <td>ZWS</td>\n",
       "      <td>Utilities-Regulated Water</td>\n",
       "    </tr>\n",
       "    <tr>\n",
       "      <th>3317</th>\n",
       "      <td>3317</td>\n",
       "      <td>ZYNE</td>\n",
       "      <td>Pharmaceuticals</td>\n",
       "    </tr>\n",
       "  </tbody>\n",
       "</table>\n",
       "<p>3318 rows × 3 columns</p>\n",
       "</div>"
      ],
      "text/plain": [
       "      Unnamed: 0 Symbol                                 Industry\n",
       "0              0      A           Life Sciences Tools & Services\n",
       "1              1     AA                          Metals & Mining\n",
       "2              2   AAIC  Mortgage Real Estate Investment Trus...\n",
       "3              3    AAL                                 Airlines\n",
       "4              4   AAOI                 Communications Equipment\n",
       "...          ...    ...                                      ...\n",
       "3313        3313    ZTO                  Air Freight & Logistics\n",
       "3314        3314    ZTS                          Pharmaceuticals\n",
       "3315        3315   ZUMZ                         Specialty Retail\n",
       "3316        3316    ZWS                Utilities-Regulated Water\n",
       "3317        3317   ZYNE                          Pharmaceuticals\n",
       "\n",
       "[3318 rows x 3 columns]"
      ]
     },
     "execution_count": 9,
     "metadata": {},
     "output_type": "execute_result"
    }
   ],
   "source": [
    "ticker_names"
   ]
  },
  {
   "cell_type": "code",
   "execution_count": 13,
   "id": "53160397-7fe6-49e8-af8b-468f7e92bbcb",
   "metadata": {},
   "outputs": [
    {
     "name": "stderr",
     "output_type": "stream",
     "text": [
      "/Library/Frameworks/Python.framework/Versions/3.9/lib/python3.9/site-packages/pandas/core/series.py:1056: SettingWithCopyWarning: \n",
      "A value is trying to be set on a copy of a slice from a DataFrame\n",
      "\n",
      "See the caveats in the documentation: https://pandas.pydata.org/pandas-docs/stable/user_guide/indexing.html#returning-a-view-versus-a-copy\n",
      "  cacher_needs_updating = self._check_is_chained_assignment_possible()\n"
     ]
    },
    {
     "ename": "TypeError",
     "evalue": "argument of type 'float' is not iterable",
     "output_type": "error",
     "traceback": [
      "\u001b[0;31m---------------------------------------------------------------------------\u001b[0m",
      "\u001b[0;31mTypeError\u001b[0m                                 Traceback (most recent call last)",
      "\u001b[0;32m/var/folders/qb/zkr1kmzd3dqb3n6902fws8gw0000gn/T/ipykernel_6188/2051307969.py\u001b[0m in \u001b[0;36m<module>\u001b[0;34m\u001b[0m\n\u001b[1;32m      1\u001b[0m \u001b[0;32mfor\u001b[0m \u001b[0mi\u001b[0m \u001b[0;32min\u001b[0m \u001b[0mrange\u001b[0m\u001b[0;34m(\u001b[0m\u001b[0mlen\u001b[0m\u001b[0;34m(\u001b[0m\u001b[0mticker_names\u001b[0m\u001b[0;34m)\u001b[0m\u001b[0;34m)\u001b[0m\u001b[0;34m:\u001b[0m\u001b[0;34m\u001b[0m\u001b[0;34m\u001b[0m\u001b[0m\n\u001b[0;32m----> 2\u001b[0;31m     \u001b[0;32mif\u001b[0m \u001b[0;34m\"...\"\u001b[0m \u001b[0;32min\u001b[0m \u001b[0mticker_names\u001b[0m\u001b[0;34m.\u001b[0m\u001b[0mloc\u001b[0m\u001b[0;34m[\u001b[0m\u001b[0mi\u001b[0m\u001b[0;34m]\u001b[0m\u001b[0;34m[\u001b[0m\u001b[0;34m'Industry'\u001b[0m\u001b[0;34m]\u001b[0m\u001b[0;34m:\u001b[0m\u001b[0;34m\u001b[0m\u001b[0;34m\u001b[0m\u001b[0m\n\u001b[0m\u001b[1;32m      3\u001b[0m         \u001b[0mticker_names\u001b[0m\u001b[0;34m.\u001b[0m\u001b[0mloc\u001b[0m\u001b[0;34m[\u001b[0m\u001b[0mi\u001b[0m\u001b[0;34m]\u001b[0m\u001b[0;34m[\u001b[0m\u001b[0;34m'Industry'\u001b[0m\u001b[0;34m]\u001b[0m \u001b[0;34m=\u001b[0m \u001b[0myf\u001b[0m\u001b[0;34m.\u001b[0m\u001b[0mTicker\u001b[0m\u001b[0;34m(\u001b[0m\u001b[0mticker_names\u001b[0m\u001b[0;34m.\u001b[0m\u001b[0mloc\u001b[0m\u001b[0;34m[\u001b[0m\u001b[0mi\u001b[0m\u001b[0;34m]\u001b[0m\u001b[0;34m[\u001b[0m\u001b[0;34m\"Symbol\"\u001b[0m\u001b[0;34m]\u001b[0m\u001b[0;34m)\u001b[0m\u001b[0;34m.\u001b[0m\u001b[0minfo\u001b[0m\u001b[0;34m[\u001b[0m\u001b[0;34m'industry'\u001b[0m\u001b[0;34m]\u001b[0m\u001b[0;34m\u001b[0m\u001b[0;34m\u001b[0m\u001b[0m\n",
      "\u001b[0;31mTypeError\u001b[0m: argument of type 'float' is not iterable"
     ]
    }
   ],
   "source": [
    "for i in range(len(ticker_names)):\n",
    "    if \"...\" in ticker_names.loc[i]['Industry']:\n",
    "        ticker_names.loc[i]['Industry'] = yf.Ticker(ticker_names.loc[i][\"Symbol\"]).info['industry']\n"
   ]
  },
  {
   "cell_type": "code",
   "execution_count": 12,
   "id": "54b872fe-eee3-4720-902d-12760ea1bcf2",
   "metadata": {},
   "outputs": [],
   "source": [
    "ticker_names.to_csv(\"../pre_loaded_files/tickers_availables.csv\")"
   ]
  },
  {
   "cell_type": "code",
   "execution_count": 13,
   "id": "c53b3604-dadf-4cf1-92b7-04db51251910",
   "metadata": {},
   "outputs": [],
   "source": [
    "# for i in range(0, len(ticker_names)):\n",
    "#     ticker_symbol = ticker_names.iloc[i]['Symbol']\n",
    "#     print(i)\n",
    "#     try:      \n",
    "#         ticker = yf.Ticker(ticker_symbol)\n",
    "#         ticker_history = ticker.history(start=start, end=end)\n",
    "#         ticker_industry = ticker.info['industry']\n",
    "#         if len(ticker_history) == size:\n",
    "#             success.append(i)\n",
    "#             ticker_available.loc[len(ticker_available.index)] = [ticker_symbol, ticker_industry]\n",
    "#             ticker_history = ticker_history.drop(columns = ['Dividends','Stock Splits'])\n",
    "#             ticker_history[\"Time\"] = ticker_history.index.view(np.int64) / 1000000000\n",
    "#             ticker_history = ticker_history.astype({\"Time\": int})\n",
    "#             ticker_history = ticker_history.round({'Open': 2, 'Close': 2, 'High': 2, 'Low': 2})\n",
    "#             ticker_history = ticker_history.set_index(\"Time\", append=True)\n",
    "#             ticker_history.to_csv(\"../tickers_history/\" + ticker_symbol + \".csv\")\n",
    "#         else:\n",
    "#             fail.append(i)\n",
    "#     except:\n",
    "#         wrongList.append(i)\n",
    "#         wrongName.append(ticker_symbol)\n",
    "        \n",
    "        \n",
    "        \n",
    "        "
   ]
  },
  {
   "cell_type": "code",
   "execution_count": 14,
   "id": "23557d61-e4d6-46a0-80b1-6342d0965f73",
   "metadata": {
    "tags": []
   },
   "outputs": [
    {
     "data": {
      "text/html": [
       "<div>\n",
       "<style scoped>\n",
       "    .dataframe tbody tr th:only-of-type {\n",
       "        vertical-align: middle;\n",
       "    }\n",
       "\n",
       "    .dataframe tbody tr th {\n",
       "        vertical-align: top;\n",
       "    }\n",
       "\n",
       "    .dataframe thead th {\n",
       "        text-align: right;\n",
       "    }\n",
       "</style>\n",
       "<table border=\"1\" class=\"dataframe\">\n",
       "  <thead>\n",
       "    <tr style=\"text-align: right;\">\n",
       "      <th></th>\n",
       "      <th>Symbol</th>\n",
       "      <th>Industry</th>\n",
       "    </tr>\n",
       "  </thead>\n",
       "  <tbody>\n",
       "  </tbody>\n",
       "</table>\n",
       "</div>"
      ],
      "text/plain": [
       "Empty DataFrame\n",
       "Columns: [Symbol, Industry]\n",
       "Index: []"
      ]
     },
     "execution_count": 14,
     "metadata": {},
     "output_type": "execute_result"
    }
   ],
   "source": []
  },
  {
   "cell_type": "code",
   "execution_count": null,
   "id": "dbccece4-bc77-46ef-9b57-1f250544b747",
   "metadata": {},
   "outputs": [],
   "source": []
  },
  {
   "cell_type": "code",
   "execution_count": null,
   "id": "62c43946-bf7a-4ceb-9f09-787e467a1c73",
   "metadata": {},
   "outputs": [],
   "source": []
  },
  {
   "cell_type": "code",
   "execution_count": null,
   "id": "885a0efa-d486-4b1c-aa19-d8d0c5219b37",
   "metadata": {},
   "outputs": [],
   "source": []
  },
  {
   "cell_type": "code",
   "execution_count": null,
   "id": "abce48bc-536c-4eac-9096-0d59b71940a4",
   "metadata": {},
   "outputs": [],
   "source": []
  },
  {
   "cell_type": "code",
   "execution_count": null,
   "id": "93e1f7a7-d0d9-45c6-a1b0-6e6ae057538e",
   "metadata": {},
   "outputs": [],
   "source": []
  },
  {
   "cell_type": "code",
   "execution_count": null,
   "id": "635ed7cb-ea6c-4495-9c3f-504a90833808",
   "metadata": {},
   "outputs": [],
   "source": []
  }
 ],
 "metadata": {
  "kernelspec": {
   "display_name": "Python 3 (ipykernel)",
   "language": "python",
   "name": "python3"
  },
  "language_info": {
   "codemirror_mode": {
    "name": "ipython",
    "version": 3
   },
   "file_extension": ".py",
   "mimetype": "text/x-python",
   "name": "python",
   "nbconvert_exporter": "python",
   "pygments_lexer": "ipython3",
   "version": "3.9.7"
  }
 },
 "nbformat": 4,
 "nbformat_minor": 5
}
